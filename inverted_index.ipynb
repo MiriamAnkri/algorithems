{
 "cells": [
  {
   "cell_type": "code",
   "execution_count": 41,
   "metadata": {},
   "outputs": [],
   "source": [
    "import collections"
   ]
  },
  {
   "cell_type": "code",
   "execution_count": 65,
   "metadata": {},
   "outputs": [],
   "source": [
    "global_words_index = {}"
   ]
  },
  {
   "cell_type": "code",
   "execution_count": 11,
   "metadata": {},
   "outputs": [],
   "source": [
    "def file2contents(file):\n",
    "    \n",
    "    try:\n",
    "        opened_file = open(file,'r')\n",
    "        if opened_file.mode == 'r':\n",
    "            contents=opened_file.read()\n",
    "    except IOError:\n",
    "        # This will only check for an IOError exception and then execute this print statement\n",
    "        print(\"Error: Could not find file or read data\")\n",
    "    opened_file.close()\n",
    "    return contents"
   ]
  },
  {
   "cell_type": "code",
   "execution_count": 53,
   "metadata": {},
   "outputs": [],
   "source": [
    "def contents2words_count(file_contents):\n",
    "    \n",
    "    file_contents = file_contents.lower()\n",
    "    split_text = file_contents.split(' ')\n",
    "    \n",
    "    word_count = collections.Counter()\n",
    "    \n",
    "    for word in split_text:\n",
    "        word_count[word] +=1\n",
    "\n",
    "    return word_count"
   ]
  },
  {
   "cell_type": "code",
   "execution_count": 46,
   "metadata": {},
   "outputs": [],
   "source": []
  },
  {
   "cell_type": "code",
   "execution_count": 5,
   "metadata": {},
   "outputs": [],
   "source": [
    "def local2global_index(index,doc_id):\n",
    "    \n",
    "    for word in index:\n",
    "        if word not in global_words_index:\n",
    "            global_words_index[word] = [(doc_id,index[word])]\n",
    "        else:\n",
    "            global_words_index[word].append((doc_id,index[word]))\n",
    "            \n",
    "            "
   ]
  },
  {
   "cell_type": "code",
   "execution_count": 66,
   "metadata": {},
   "outputs": [],
   "source": [
    "def create_inverted_index(files_set):\n",
    "    \n",
    "    for doc_id, file in enumerate(files_set,1):\n",
    "        #get content of file\n",
    "        file_contents = file2contents(file)\n",
    "        # create dictionary for this document\n",
    "        one_file_index = contents2words_count(file_contents)\n",
    "        # insert this file's index to global index\n",
    "        local2global_index(one_file_index,doc_id)\n",
    "        "
   ]
  },
  {
   "cell_type": "code",
   "execution_count": 7,
   "metadata": {},
   "outputs": [],
   "source": [
    "f = open('file1.txt','w+')\n",
    "f.write(\"This is a test line\\n\")\n",
    "f.write(\"This is another test line\\n\")\n",
    "f.close()"
   ]
  },
  {
   "cell_type": "code",
   "execution_count": 8,
   "metadata": {},
   "outputs": [],
   "source": [
    "f = open('file2.txt','w+')\n",
    "f.write(\"This is first line\\n\")\n",
    "f.write(\"This is second line\\n\")\n",
    "f.close()"
   ]
  },
  {
   "cell_type": "code",
   "execution_count": 9,
   "metadata": {},
   "outputs": [],
   "source": [
    "f = open('file3.txt','w+')\n",
    "f.write(\"Test line is wrong\\n\")\n",
    "f.write(\"This is first real data\\n\")\n",
    "f.close()"
   ]
  },
  {
   "cell_type": "code",
   "execution_count": 67,
   "metadata": {},
   "outputs": [],
   "source": [
    "create_inverted_index(['file1.txt','file2.txt','file3.txt'])"
   ]
  },
  {
   "cell_type": "code",
   "execution_count": 70,
   "metadata": {},
   "outputs": [
    {
     "name": "stdout",
     "output_type": "stream",
     "text": [
      "Please enter a word for search: is\n",
      "is appear in document num 1 for 2 times\n",
      "is appear in document num 2 for 2 times\n",
      "is appear in document num 3 for 2 times\n"
     ]
    }
   ],
   "source": [
    "search_word = input('Please enter a word for search: ')\n",
    "results = global_words_index.get(search_word)\n",
    "if results is None:\n",
    "    print(\"This word doesn't appear is the documents set\")\n",
    "else:\n",
    "    for item in results:\n",
    "        print(search_word + ' appear in document num ' + str(item[0]) + ' for ' + str(item[1]) + ' times')"
   ]
  },
  {
   "cell_type": "code",
   "execution_count": null,
   "metadata": {},
   "outputs": [],
   "source": [
    "\n",
    "    "
   ]
  }
 ],
 "metadata": {
  "kernelspec": {
   "display_name": "Python 3",
   "language": "python",
   "name": "python3"
  },
  "language_info": {
   "codemirror_mode": {
    "name": "ipython",
    "version": 3
   },
   "file_extension": ".py",
   "mimetype": "text/x-python",
   "name": "python",
   "nbconvert_exporter": "python",
   "pygments_lexer": "ipython3",
   "version": "3.7.2"
  }
 },
 "nbformat": 4,
 "nbformat_minor": 2
}
